{
 "cells": [
  {
   "cell_type": "code",
   "execution_count": 36,
   "metadata": {
    "collapsed": true
   },
   "outputs": [],
   "source": [
    "import pandas as pd\n",
    "import numpy as np\n",
    "\n",
    "            \n"
   ]
  },
  {
   "cell_type": "code",
   "execution_count": null,
   "metadata": {
    "collapsed": true
   },
   "outputs": [],
   "source": []
  },
  {
   "cell_type": "code",
   "execution_count": null,
   "metadata": {
    "collapsed": true
   },
   "outputs": [],
   "source": []
  },
  {
   "cell_type": "code",
   "execution_count": null,
   "metadata": {
    "collapsed": true
   },
   "outputs": [],
   "source": []
  },
  {
   "cell_type": "code",
   "execution_count": 37,
   "metadata": {},
   "outputs": [
    {
     "data": {
      "text/plain": [
       "'<?xml version=\"1.0\" encoding=\"ISO-8859-1\" standalone=\"yes\"?> <?xml-stylesheet href=\"gpx.xsl\" type=\"text/xsl\"?><gpx version=\"1.0\" creator=\"Event_Logger 8.2 - http://web.tiscali.it/macri/Event_Logger - TomTom GO 710 (GO 710, Id=8) - Ttn: 7.903 build 9183\" xmlns:xsi=\"http://www.w3.org/2001/XMLSchema-instance\" xmlns=\"http://www.topografix.com/GPX/1/0\" xsi:schemaLocation=\"http://www.topografix.com/GPX/1/0 http://www.topografix.com/GPX/1/0/gpx.xsd\"> <name>END Thursday 22 March 2012 18:22:57. Total distance: 11.7 km. Max speed: 134 km/h. Motion duration: 11 mins., Max./Min. altitude=325/279 m. Max uphill slope: 1.6%. Max downhill slope: 2.2%</name> <desc>BEGIN Thursday 22 March 2012 18:22:55</desc> <author>amacri</author><email>amacri@tiscali.it</email> <url>http://web.tiscali.it/macri/Event_Logger</url><urlname>Event_Logger 8.2</urlname><wpt lat=\"-33.5191803\" lon=\"-70.5565567\"><time>2016-05-23:T09:55:07Z</time><name>Thursday 22 March 2012 18:22:49</name><desc>[13]!</desc><sym>Waypoint</sym><type>SUSPEND</type></wpt><trk><name>Thursday 22 March 2012 18:10:35</name><cmt>Started</cmt><trkseg><trkpt lat=\"-33.5191803\" lon=\"-70.5565567\"><time>2016-05-23T10:00:07Z</time><speed>0.0</speed><fix>2d</fix></trkpt>\\n<trkpt lat=\"-33.5191803\" lon=\"-70.5565567\"><time>2016-05-23T10:05:07Z</time><speed>0.0</speed><fix>2d</fix></trkpt>\\n<trkpt lat=\"-33.5191803\" lon=\"-70.5565567\"><time>2016-05-23T10:10:07Z</time><speed>0.0</speed><fix>2d</fix></trkpt>\\n<trkpt lat=\"-33.5191803\" lon=\"-70.5565567\"><time>2016-05-23T10:15:07Z</time><speed>0.0</speed><fix>2d</fix></trkpt>\\n<trkpt lat=\"-33.5191803\" lon=\"-70.5565567\"><time>2016-05-23T10:20:07Z</time><speed>0.0</speed><fix>2d</fix></trkpt>\\n<trkpt lat=\"-33.5191803\" lon=\"-70.5565567\"><time>2016-05-23T10:25:07Z</time><speed>0.0</speed><fix>2d</fix></trkpt>\\n<trkpt lat=\"-33.5191803\" lon=\"-70.5565567\"><time>2016-05-23T10:30:07Z</time><speed>0.0</speed><fix>2d</fix></trkpt>\\n<trkpt lat=\"-33.5191803\" lon=\"-70.5565567\"><time>2016-05-23T10:35:07Z</time><speed>0.0</speed><fix>2d</fix></trkpt>\\n<trkpt lat=\"-33.5191803\" lon=\"-70.5565567\"><time>2016-05-23T10:40:07Z</time><speed>0.0</speed><fix>2d</fix></trkpt>\\n<trkpt lat=\"-33.5191803\" lon=\"-70.5565567\"><time>2016-05-23T10:45:07Z</time><speed>0.0</speed><fix>2d</fix></trkpt>\\n<trkpt lat=\"-33.5191803\" lon=\"-70.5565567\"><time>2016-05-23T10:50:07Z</time><speed>0.0</speed><fix>2d</fix></trkpt>\\n<trkpt lat=\"-33.5191803\" lon=\"-70.5565567\"><time>2016-05-23T10:54:15Z</time><speed>0.0</speed><fix>2d</fix></trkpt>\\n<trkpt lat=\"-33.5191803\" lon=\"-70.5565567\"><time>2016-05-23T10:54:45Z</time><speed>0.0</speed><fix>2d</fix></trkpt>\\n<trkpt lat=\"-33.5191803\" lon=\"-70.5565567\"><time>2016-05-23T10:55:15Z</time><speed>0.0</speed><fix>2d</fix></trkpt>\\n<trkpt lat=\"-33.5191803\" lon=\"-70.5565567\"><time>2016-05-23T10:55:45Z</time><speed>0.0</speed><fix>2d</fix></trkpt>\\n<trkpt lat=\"-33.5191803\" lon=\"-70.5565567\"><time>2016-05-23T10:56:15Z</time><speed>0.0</speed><fix>2d</fix></trkpt>\\n<trkpt lat=\"-33.5191803\" lon=\"-70.5565567\"><time>2016-05-23T10:56:45Z</time><speed>0.0</speed><fix>2d</fix></trkpt>\\n<trkpt lat=\"-33.5191994\" lon=\"-70.5565567\"><time>2016-05-23T10:57:15Z</time><speed>0.0</speed><fix>2d</fix></trkpt>\\n<trkpt lat=\"-33.5185928\" lon=\"-70.5569077\"><time>2016-05-23T10:57:45Z</time><speed>3.89</speed><fix>2d</fix></trkpt>\\n<trkpt lat=\"-33.5180588\" lon=\"-70.556778\"><time>2016-05-23T10:58:15Z</time><speed>17.96</speed><fix>2d</fix></trkpt>\\n<trkpt lat=\"-33.5184135\" lon=\"-70.5562439\"><time>2016-05-23T10:58:45Z</time><speed>0.0</speed><fix>2d</fix></trkpt>\\n<trkpt lat=\"-33.5184135\" lon=\"-70.5562439\"><time>2016-05-23T10:59:15Z</time><speed>0.0</speed><fix>2d</fix></trkpt>\\n</trkseg></trk></gpx>'"
      ]
     },
     "execution_count": 37,
     "metadata": {},
     "output_type": "execute_result"
    }
   ],
   "source": [
    "\n",
    "head"
   ]
  },
  {
   "cell_type": "code",
   "execution_count": 38,
   "metadata": {},
   "outputs": [
    {
     "name": "stdout",
     "output_type": "stream",
     "text": [
      "0 ['BBZS-92' -33.5160141 -70.5929184 20160523000101L 'T4TS 00I' 68.89 'SI']\n",
      "1 ['BBZS-92' -33.5131035 -70.5905151 20160523000132L 'T4TS 00I' 67.97 'SI']\n",
      "2 ['BBZS-92' -33.5107651 -70.5888214 20160523000201L 'T4TS 00I' 35.93 'SI']\n",
      "3 ['BBZS-92' -33.5105171 -70.5884933 20160523000231L 'T4TS 00I' 0.0 'SI']\n",
      "4 ['BBZS-92' -33.5101814 -70.5864258 20160523000302L 'T4TS 00I' 52.97 'SI']\n",
      "5 ['BBZS-92' -33.5105019 -70.5808487 20160523000331L 'T4TS 00I' 54.82 'SI']\n",
      "6 ['BBZS-92' -33.5110626 -70.5744095 20160523000401L 'T4TS 00I' 74.82 'SI']\n",
      "7 ['BBZS-92' -33.5115509 -70.5676651 20160523000432L 'T4TS 00I' 38.89 'SI']\n",
      "8 ['BBZS-92' -33.5116615 -70.5662155 20160523000502L 'T4TS 00I' 40.93 'SI']\n",
      "9 ['BBZS-92' -33.511467 -70.5648804 20160523000532L 'T4TS 00I' 11.85 'SI']\n",
      "10 ['BBZS-92' -33.5116119 -70.5615463 20160523000601L 'T4TS 00I' 47.97 'SI']\n",
      "11 ['BBZS-92' -33.514019 -70.5598755 20160523000632L 'T4TS 00I' 60.93 'SI']\n",
      "12 ['BBZS-92' -33.5175133 -70.5584183 20160523000701L 'T4TS 00I' 24.82 'SI']\n",
      "13 ['BBZS-92' -33.5177078 -70.5583649 20160523000732L 'T4TS 00I' 0.0 'SI']\n",
      "14 ['BBZS-92' -33.5177078 -70.5565414 20160523000801L 'T4TS 00I' 0.0 'SI']\n",
      "15 ['BBZS-92' -33.5181694 -70.5563354 20160523000832L 'T4TS 00I' 0.0 'SI']\n",
      "16 ['BBZS-92' -33.5181847 -70.5563202 20160523000902L 'T4TS 00I' 2.96 'SI']\n",
      "17 ['BBZS-92' -33.5181847 -70.5563202 20160523000931L 'T4TS 00I' 0.0 'SI']\n",
      "18 ['BBZS-92' -33.5182266 -70.5563126 20160523001002L 'T4TS 00I' 6.85 'SI']\n",
      "19 ['BBZS-92' -33.5182762 -70.5563126 20160523001031L 'T4TS 00I' 0.0 'SI']\n",
      "20 ['BBZS-92' -33.5182762 -70.5563126 20160523001102L 'T4TS 00I' 0.0 'SI']\n",
      "21 ['BBZS-92' -33.5182762 -70.5563126 20160523001131L 'T4TS 00I' 0.0 'SI']\n",
      "22 ['BBZS-92' -33.5182762 -70.5563126 20160523001202L 'T4TS 00I' 0.0 'SI']\n",
      "23 ['BBZS-92' -33.5182762 -70.5563126 20160523001231L 'T4TS 00I' 0.0 'SI']\n",
      "24 ['BBZS-92' -33.5182762 -70.5563126 20160523001302L 'T4TS 00I' 0.0 'SI']\n",
      "25 ['BBZS-92' -33.5182762 -70.5563126 20160523001332L 'T4TS 00I' 0.0 'SI']\n",
      "26 ['BBZS-92' -33.5184555 -70.5564804 20160523001402L 'T4TS 00I' 2.96 'SI']\n",
      "27 ['BBZS-92' -33.5184784 -70.5564575 20160523001431L 'T4TS 00I' 0.0 'SI']\n",
      "0 ['BBZS-92' -33.5184784 -70.5564575 20160523001931L 'T4TS 00I' 0.0 'NO']\n",
      "1 ['BBZS-92' -33.5184784 -70.5564575 20160523002432L 'T4TS 00I' 0.0 'NO']\n",
      "2 ['BBZS-92' -33.5184784 -70.5564575 20160523002932L 'T4TS 00I' 0.0 'NO']\n",
      "3 ['BBZS-92' -33.5184784 -70.5564575 20160523003432L 'T4TS 00I' 0.0 'NO']\n",
      "4 ['BBZS-92' -33.5184784 -70.5564575 20160523003932L 'T4TS 00I' 0.0 'NO']\n",
      "5 ['BBZS-92' -33.5184784 -70.5564575 20160523004432L 'T4TS 00I' 0.0 'NO']\n",
      "6 ['BBZS-92' -33.5184784 -70.5564575 20160523004932L 'T4TS 00I' 0.0 'NO']\n",
      "7 ['BBZS-92' -33.5184784 -70.5564575 20160523005432L 'T4TS 00I' 0.0 'NO']\n",
      "0 ['BBZS-92' -33.5184784 -70.5564575 20160523005932L 'T4TS 00I' 0.0 'NO']\n",
      "1 ['BBZS-92' -33.5184784 -70.5564575 20160523010432L 'T4TS 00I' 0.0 'NO']\n",
      "2 ['BBZS-92' -33.5184784 -70.5564575 20160523010932L 'T4TS 00I' 0.0 'NO']\n",
      "3 ['BBZS-92' -33.5184784 -70.5564575 20160523011432L 'T4TS 00I' 0.0 'NO']\n",
      "4 ['BBZS-92' -33.5184784 -70.5564575 20160523011932L 'T4TS 00I' 0.0 'NO']\n",
      "5 ['BBZS-92' -33.5184784 -70.5564575 20160523012432L 'T4TS 00I' 0.0 'NO']\n",
      "6 ['BBZS-92' -33.5184784 -70.5564575 20160523012932L 'T4TS 00I' 0.0 'NO']\n",
      "7 ['BBZS-92' -33.5184784 -70.5564575 20160523013432L 'T4TS 00I' 0.0 'NO']\n",
      "8 ['BBZS-92' -33.5184784 -70.5564575 20160523013932L 'T4TS 00I' 0.0 'NO']\n",
      "9 ['BBZS-92' -33.5184784 -70.5564575 20160523014432L 'T4TS 00I' 0.0 'NO']\n",
      "10 ['BBZS-92' -33.5184784 -70.5564575 20160523014932L 'T4TS 00I' 0.0 'NO']\n",
      "11 ['BBZS-92' -33.5184784 -70.5564575 20160523015432L 'T4TS 00I' 0.0 'NO']\n",
      "0 ['BBZS-92' -33.5184784 -70.5564575 20160523015932L 'T4TS 00I' 0.0 'NO']\n",
      "1 ['BBZS-92' -33.5184784 -70.5564575 20160523020432L 'T4TS 00I' 0.0 'NO']\n",
      "2 ['BBZS-92' -33.5184784 -70.5564575 20160523020932L 'T4TS 00I' 0.0 'NO']\n",
      "3 ['BBZS-92' -33.5184784 -70.5564575 20160523021432L 'T4TS 00I' 0.0 'NO']\n",
      "4 ['BBZS-92' -33.5184784 -70.5564575 20160523021932L 'T4TS 00I' 0.0 'NO']\n",
      "5 ['BBZS-92' -33.5184784 -70.5564575 20160523022432L 'T4TS 00I' 0.0 'NO']\n",
      "6 ['BBZS-92' -33.5184784 -70.5564575 20160523022932L 'T4TS 00I' 0.0 'NO']\n",
      "7 ['BBZS-92' -33.5184784 -70.5564575 20160523023432L 'T4TS 00I' 0.0 'NO']\n",
      "8 ['BBZS-92' -33.5184784 -70.5564575 20160523023932L 'T4TS 00I' 0.0 'NO']\n",
      "9 ['BBZS-92' -33.5184784 -70.5564575 20160523024432L 'T4TS 00I' 0.0 'NO']\n",
      "10 ['BBZS-92' -33.5184784 -70.5564575 20160523024932L 'T4TS 00I' 0.0 'NO']\n",
      "11 ['BBZS-92' -33.5184784 -70.5564575 20160523025432L 'T4TS 00I' 0.0 'NO']\n",
      "0 ['BBZS-92' -33.5184784 -70.5564575 20160523025932L 'T4TS 00I' 0.0 'NO']\n",
      "1 ['BBZS-92' -33.5184784 -70.5564575 20160523030432L 'T4TS 00I' 0.0 'NO']\n",
      "2 ['BBZS-92' -33.5184784 -70.5564575 20160523030932L 'T4TS 00I' 0.0 'NO']\n",
      "3 ['BBZS-92' -33.5184784 -70.5564575 20160523031432L 'T4TS 00I' 0.0 'NO']\n",
      "4 ['BBZS-92' -33.5184784 -70.5564575 20160523031932L 'T4TS 00I' 0.0 'NO']\n",
      "5 ['BBZS-92' -33.5184784 -70.5564575 20160523032432L 'T4TS 00I' 0.0 'NO']\n",
      "6 ['BBZS-92' -33.5184784 -70.5564575 20160523032932L 'T4TS 00I' 0.0 'NO']\n",
      "7 ['BBZS-92' -33.5184784 -70.5564575 20160523033432L 'T4TS 00I' 0.0 'NO']\n",
      "8 ['BBZS-92' -33.5184784 -70.5564575 20160523033932L 'T4TS 00I' 0.0 'NO']\n",
      "9 ['BBZS-92' -33.5184784 -70.5564575 20160523034432L 'T4TS 00I' 0.0 'NO']\n",
      "10 ['BBZS-92' -33.5184784 -70.5564575 20160523034932L 'T4TS 00I' 0.0 'NO']\n",
      "11 ['BBZS-92' -33.5184784 -70.5564575 20160523035432L 'T4TS 00I' 0.0 'NO']\n",
      "0 ['BBZS-92' -33.5184784 -70.5564575 20160523035932L 'T4TS 00I' 0.0 'NO']\n",
      "1 ['BBZS-92' -33.5184784 -70.5564575 20160523040432L 'T4TS 00I' 0.0 'NO']\n",
      "2 ['BBZS-92' -33.5184784 -70.5564575 20160523040932L 'T4TS 00I' 0.0 'NO']\n",
      "3 ['BBZS-92' -33.5184784 -70.5564575 20160523041432L 'T4TS 00I' 0.0 'NO']\n",
      "4 ['BBZS-92' -33.5184784 -70.5564575 20160523041932L 'T4TS 00I' 0.0 'NO']\n",
      "5 ['BBZS-92' -33.5184784 -70.5564575 20160523042432L 'T4TS 00I' 0.0 'NO']\n",
      "6 ['BBZS-92' -33.5184784 -70.5564575 20160523042932L 'T4TS 00I' 0.0 'NO']\n",
      "7 ['BBZS-92' -33.5184784 -70.5564575 20160523043432L 'T4TS 00I' 0.0 'NO']\n",
      "8 ['BBZS-92' -33.5184784 -70.5564575 20160523043932L 'T4TS 00I' 0.0 'NO']\n",
      "9 ['BBZS-92' -33.5184784 -70.5564575 20160523044432L 'T4TS 00I' 0.0 'NO']\n",
      "10 ['BBZS-92' -33.5184784 -70.5564575 20160523044932L 'T4TS 00I' 0.0 'NO']\n",
      "11 ['BBZS-92' -33.5184784 -70.5564575 20160523045432L 'T4TS 00I' 0.0 'NO']\n",
      "0 ['BBZS-92' -33.5184784 -70.5564575 20160523045932L 'T4TS 00I' 0.0 'NO']\n",
      "1 ['BBZS-92' -33.5184784 -70.5564575 20160523050432L 'T4TS 00I' 0.0 'NO']\n",
      "2 ['BBZS-92' -33.5184784 -70.5564575 20160523050932L 'T4TS 00I' 0.0 'NO']\n",
      "3 ['BBZS-92' -33.5184784 -70.5564575 20160523051432L 'T4TS 00I' 0.0 'NO']\n",
      "4 ['BBZS-92' -33.5184784 -70.5564575 20160523051932L 'T4TS 00I' 0.0 'NO']\n",
      "5 ['BBZS-92' -33.5184784 -70.5564575 20160523052432L 'T4TS 00I' 0.0 'NO']\n",
      "6 ['BBZS-92' -33.5184784 -70.5564575 20160523052706L 'T4TS 00I' 0.0 'SI']\n",
      "7 ['BBZS-92' -33.5184784 -70.5564575 20160523052736L 'T4TS 00I' 0.0 'SI']\n",
      "8 ['BBZS-92' -33.5184784 -70.5564575 20160523052806L 'T4TS 00I' 0.0 'SI']\n",
      "9 ['BBZS-92' -33.5184784 -70.5564575 20160523052836L 'T4TS 00I' 0.0 'SI']\n",
      "10 ['BBZS-92' -33.5184784 -70.5564575 20160523052906L 'T4TS 00I' 0.0 'SI']\n",
      "11 ['BBZS-92' -33.5184784 -70.5564575 20160523052936L 'T4TS 00I' 0.0 'SI']\n",
      "12 ['BBZS-92' -33.5184784 -70.5564575 20160523053006L 'T4TS 00I' 0.0 'SI']\n",
      "13 ['BBZS-92' -33.5184784 -70.5564575 20160523053036L 'T4TS 00I' 0.0 'SI']\n",
      "14 ['BBZS-92' -33.5184784 -70.5564575 20160523053106L 'T4TS 00I' 0.0 'SI']\n",
      "15 ['BBZS-92' -33.5184784 -70.5564575 20160523053136L 'T4TS 00I' 0.0 'SI']\n",
      "16 ['BBZS-92' -33.5184784 -70.5564575 20160523053206L 'T4TS 00I' 0.0 'SI']\n",
      "17 ['BBZS-92' -33.5184784 -70.5564575 20160523053236L 'T4TS 00I' 0.0 'SI']\n",
      "18 ['BBZS-92' -33.5184784 -70.5564575 20160523053306L 'T4TS 00I' 0.0 'SI']\n",
      "19 ['BBZS-92' -33.5184784 -70.5564575 20160523053336L 'T4TS 00I' 0.0 'SI']\n",
      "20 ['BBZS-92' -33.5184822 -70.5564499 20160523053406L 'T4TS 00I' 0.0 'SI']\n",
      "21 ['BBZS-92' -33.5184364 -70.5564651 20160523053436L 'T4TS 00I' 0.0 'SI']\n",
      "22 ['BBZS-92' -33.5186768 -70.5568771 20160523053506L 'T4TS 00I' 6.85 'SI']\n",
      "23 ['BBZS-92' -33.5182304 -70.5569992 20160523053536L 'T4TS 00I' 2.96 'SI']\n",
      "24 ['BBZS-92' -33.518219 -70.5569992 20160523053606L 'T4TS 00I' 0.0 'SI']\n",
      "25 ['BBZS-92' -33.518219 -70.5569992 20160523053636L 'T4TS 00I' 0.0 'SI']\n",
      "26 ['BBZS-92' -33.5181427 -70.5570145 20160523053706L 'T4TS 00I' 6.85 'SI']\n",
      "27 ['BBZS-92' -33.5177536 -70.5564957 20160523053736L 'T4TS 00I' 17.96 'SI']\n",
      "28 ['BBZS-92' -33.5172081 -70.5546265 20160523053806L 'T4TS 00I' 13.89 'SI']\n",
      "29 ['BBZS-92' -33.5166054 -70.5522079 20160523053836L 'T4TS 00I' 33.89 'SI']\n",
      "30 ['BBZS-92' -33.5159798 -70.5503922 20160523053906L 'T4TS 00I' 24.82 'SI']\n",
      "31 ['BBZS-92' -33.5145798 -70.5490494 20160523053936L 'T4TS 00I' 30.93 'SI']\n",
      "32 ['BBZS-92' -33.5138893 -70.5458374 20160523054006L 'T4TS 00I' 39.82 'SI']\n",
      "33 ['BBZS-92' -33.5140076 -70.5426712 20160523054036L 'T4TS 00I' 4.82 'SI']\n",
      "34 ['BBZS-92' -33.5133934 -70.5419083 20160523054106L 'T4TS 00I' 4.82 'SI']\n",
      "35 ['BBZS-92' -33.5124702 -70.5426941 20160523054136L 'T4TS 00I' 14.82 'SI']\n",
      "36 ['BBZS-92' -33.5124626 -70.5427399 20160523054206L 'T4TS 00I' 0.0 'SI']\n",
      "37 ['BBZS-92' -33.5124626 -70.5427399 20160523054236L 'T4TS 00I' 0.0 'SI']\n",
      "38 ['BBZS-92' -33.5124626 -70.5427399 20160523054306L 'T4TS 00I' 0.0 'SI']\n",
      "39 ['BBZS-92' -33.5124626 -70.5427399 20160523054336L 'T4TS 00I' 0.0 'SI']\n",
      "0 ['BBZS-92' -33.5124512 -70.542923 20160523054406L 'T4TS 00I' 7.96 'SI']\n",
      "1 ['BBZS-92' -33.5124092 -70.5422134 20160523094137L 'T4TS 00I' 13.89 'SI']\n",
      "2 ['BBZS-92' -33.5138397 -70.5425415 20160523094207L 'T4TS 00I' 16.85 'SI']\n",
      "3 ['BBZS-92' -33.5137482 -70.544754 20160523094237L 'T4TS 00I' 44.82 'SI']\n",
      "4 ['BBZS-92' -33.5145264 -70.5490036 20160523094307L 'T4TS 00I' 51.86 'SI']\n",
      "5 ['BBZS-92' -33.5162773 -70.5510483 20160523094337L 'T4TS 00I' 43.89 'SI']\n",
      "6 ['BBZS-92' -33.5170059 -70.5539398 20160523094407L 'T4TS 00I' 41.86 'SI']\n",
      "7 ['BBZS-92' -33.5174065 -70.5553284 20160523094437L 'T4TS 00I' 0.0 'SI']\n",
      "8 ['BBZS-92' -33.5176544 -70.5563583 20160523094507L 'T4TS 00I' 0.0 'SI']\n",
      "9 ['BBZS-92' -33.5177612 -70.556366 20160523094537L 'T4TS 00I' 0.0 'SI']\n",
      "10 ['BBZS-92' -33.5177612 -70.556366 20160523094607L 'T4TS 00I' 0.0 'SI']\n",
      "11 ['BBZS-92' -33.5177612 -70.556366 20160523094637L 'T4TS 00I' 0.0 'SI']\n",
      "12 ['BBZS-92' -33.517952 -70.5563889 20160523094707L 'T4TS 00I' 10.93 'SI']\n",
      "13 ['BBZS-92' -33.5182419 -70.5562897 20160523094737L 'T4TS 00I' 0.0 'SI']\n",
      "14 ['BBZS-92' -33.5182419 -70.5562897 20160523094807L 'T4TS 00I' 0.0 'SI']\n",
      "15 ['BBZS-92' -33.5183411 -70.5562897 20160523094837L 'T4TS 00I' 0.0 'SI']\n",
      "16 ['BBZS-92' -33.5183411 -70.5562897 20160523094907L 'T4TS 00I' 0.0 'SI']\n",
      "17 ['BBZS-92' -33.5183411 -70.5562897 20160523094937L 'T4TS 00I' 0.0 'SI']\n",
      "18 ['BBZS-92' -33.5188179 -70.5565872 20160523095007L 'T4TS 00I' 17.96 'SI']\n",
      "0 ['BBZS-92' -33.5191803 -70.5565567 20160523095507L 'T4TS 00I' 0.0 'NO']\n",
      "1 ['BBZS-92' -33.5191803 -70.5565567 20160523100007L 'T4TS 00I' 0.0 'NO']\n",
      "2 ['BBZS-92' -33.5191803 -70.5565567 20160523100507L 'T4TS 00I' 0.0 'NO']\n",
      "3 ['BBZS-92' -33.5191803 -70.5565567 20160523101007L 'T4TS 00I' 0.0 'NO']\n",
      "4 ['BBZS-92' -33.5191803 -70.5565567 20160523101507L 'T4TS 00I' 0.0 'NO']\n",
      "5 ['BBZS-92' -33.5191803 -70.5565567 20160523102007L 'T4TS 00I' 0.0 'NO']\n",
      "6 ['BBZS-92' -33.5191803 -70.5565567 20160523102507L 'T4TS 00I' 0.0 'NO']\n",
      "7 ['BBZS-92' -33.5191803 -70.5565567 20160523103007L 'T4TS 00I' 0.0 'NO']\n",
      "8 ['BBZS-92' -33.5191803 -70.5565567 20160523103507L 'T4TS 00I' 0.0 'NO']\n",
      "9 ['BBZS-92' -33.5191803 -70.5565567 20160523104007L 'T4TS 00I' 0.0 'NO']\n"
     ]
    },
    {
     "name": "stdout",
     "output_type": "stream",
     "text": [
      "10 ['BBZS-92' -33.5191803 -70.5565567 20160523104507L 'T4TS 00I' 0.0 'NO']\n",
      "11 ['BBZS-92' -33.5191803 -70.5565567 20160523105007L 'T4TS 00I' 0.0 'NO']\n",
      "12 ['BBZS-92' -33.5191803 -70.5565567 20160523105415L 'T4TS 00I' 0.0 'SI']\n",
      "13 ['BBZS-92' -33.5191803 -70.5565567 20160523105445L 'T4TS 00I' 0.0 'SI']\n",
      "14 ['BBZS-92' -33.5191803 -70.5565567 20160523105515L 'T4TS 00I' 0.0 'SI']\n",
      "15 ['BBZS-92' -33.5191803 -70.5565567 20160523105545L 'T4TS 00I' 0.0 'SI']\n",
      "16 ['BBZS-92' -33.5191803 -70.5565567 20160523105615L 'T4TS 00I' 0.0 'SI']\n",
      "17 ['BBZS-92' -33.5191803 -70.5565567 20160523105645L 'T4TS 00I' 0.0 'SI']\n",
      "18 ['BBZS-92' -33.5191994 -70.5565567 20160523105715L 'T4TS 00I' 0.0 'SI']\n",
      "19 ['BBZS-92' -33.5185928 -70.5569077 20160523105745L 'T4TS 00I' 3.89 'SI']\n",
      "20 ['BBZS-92' -33.5180588 -70.556778 20160523105815L 'T4TS 00I' 17.96 'SI']\n",
      "21 ['BBZS-92' -33.5184135 -70.5562439 20160523105845L 'T4TS 00I' 0.0 'SI']\n",
      "22 ['BBZS-92' -33.5184135 -70.5562439 20160523105915L 'T4TS 00I' 0.0 'SI']\n"
     ]
    }
   ],
   "source": [
    "for it in xrange(9):\n",
    "    csv = pd.read_csv('/home/secondo/trip'+str(it)+'.csv')\n",
    "    head = '<?xml version=\"1.0\" encoding=\"ISO-8859-1\" standalone=\"yes\"?> <?xml-stylesheet href=\"gpx.xsl\" type=\"text/xsl\"?><gpx version=\"1.0\" creator=\"Event_Logger 8.2 - http://web.tiscali.it/macri/Event_Logger - TomTom GO 710 (GO 710, Id=8) - Ttn: 7.903 build 9183\" xmlns:xsi=\"http://www.w3.org/2001/XMLSchema-instance\" xmlns=\"http://www.topografix.com/GPX/1/0\" xsi:schemaLocation=\"http://www.topografix.com/GPX/1/0 http://www.topografix.com/GPX/1/0/gpx.xsd\"> <name>END Thursday 22 March 2012 18:22:57. Total distance: 11.7 km. Max speed: 134 km/h. Motion duration: 11 mins., Max./Min. altitude=325/279 m. Max uphill slope: 1.6%. Max downhill slope: 2.2%</name> <desc>BEGIN Thursday 22 March 2012 18:22:55</desc> <author>amacri</author><email>amacri@tiscali.it</email> <url>http://web.tiscali.it/macri/Event_Logger</url><urlname>Event_Logger 8.2</urlname>'\n",
    "    tail = '</gpx>'\n",
    "    i=0\n",
    "    for x in csv.values:\n",
    "        print i,x\n",
    "        axu = str(x[3])\n",
    "        if i==0:\n",
    "            head+= '<wpt lat=\"'+str(x[1])+'\" lon=\"'+str(x[2])+'\">'+'<time>'+str(axu[0:4])+'-'+str(axu[4:6])+'-'+str(axu[6:8])+':'+'T'+str(axu[8:10])+':'+str(axu[10:12])+':'+str(axu[12:15])+'Z</time>'+'<name>Thursday 22 March 2012 18:22:49</name>'+'<desc>[13]!</desc>'+'<sym>Waypoint</sym>'+'<type>SUSPEND</type>'+'</wpt>'\n",
    "        else:\n",
    "            if i==1:\n",
    "                head+= '<trk><name>Thursday 22 March 2012 18:10:35</name><cmt>Started</cmt><trkseg>'\n",
    "            head+= '<trkpt lat=\"'+str(x[1])+'\" lon=\"'+str(x[2])+'\"><time>'+str(axu[0:4])+'-'+str(axu[4:6])+'-'+str(axu[6:8])+'T'+str(axu[8:10])+':'+str(axu[10:12])+':'+str(axu[12:15])+'Z</time><speed>'+str(x[5])+'</speed><fix>2d</fix></trkpt>'+'\\n'\n",
    "        i+=1\n",
    "    head+='</trkseg></trk>'\n",
    "    head+=tail\n",
    "    text_file = open(\"gps\"+str(it)+\".gpx\", \"w\")\n",
    "    text_file.write(\"%s\" % head)\n",
    "    text_file.close()"
   ]
  },
  {
   "cell_type": "code",
   "execution_count": null,
   "metadata": {},
   "outputs": [],
   "source": []
  },
  {
   "cell_type": "code",
   "execution_count": 39,
   "metadata": {},
   "outputs": [
    {
     "name": "stdout",
     "output_type": "stream",
     "text": [
      "<?xml version=\"1.0\" encoding=\"ISO-8859-1\" standalone=\"yes\"?> <?xml-stylesheet href=\"gpx.xsl\" type=\"text/xsl\"?><gpx version=\"1.0\" creator=\"Event_Logger 8.2 - http://web.tiscali.it/macri/Event_Logger - TomTom GO 710 (GO 710, Id=8) - Ttn: 7.903 build 9183\" xmlns:xsi=\"http://www.w3.org/2001/XMLSchema-instance\" xmlns=\"http://www.topografix.com/GPX/1/0\" xsi:schemaLocation=\"http://www.topografix.com/GPX/1/0 http://www.topografix.com/GPX/1/0/gpx.xsd\"> <name>END Thursday 22 March 2012 18:22:57. Total distance: 11.7 km. Max speed: 134 km/h. Motion duration: 11 mins., Max./Min. altitude=325/279 m. Max uphill slope: 1.6%. Max downhill slope: 2.2%</name> <desc>BEGIN Thursday 22 March 2012 18:22:55</desc> <author>amacri</author><email>amacri@tiscali.it</email> <url>http://web.tiscali.it/macri/Event_Logger</url><urlname>Event_Logger 8.2</urlname><wpt lat=\"-33.5191803\" lon=\"-70.5565567\"><time>2016-05-23:T09:55:07Z</time><name>Thursday 22 March 2012 18:22:49</name><desc>[13]!</desc><sym>Waypoint</sym><type>SUSPEND</type></wpt><trk><name>Thursday 22 March 2012 18:10:35</name><cmt>Started</cmt><trkseg><trkpt lat=\"-33.5191803\" lon=\"-70.5565567\"><time>2016-05-23T10:00:07Z</time><speed>0.0</speed><fix>2d</fix></trkpt>\n",
      "<trkpt lat=\"-33.5191803\" lon=\"-70.5565567\"><time>2016-05-23T10:05:07Z</time><speed>0.0</speed><fix>2d</fix></trkpt>\n",
      "<trkpt lat=\"-33.5191803\" lon=\"-70.5565567\"><time>2016-05-23T10:10:07Z</time><speed>0.0</speed><fix>2d</fix></trkpt>\n",
      "<trkpt lat=\"-33.5191803\" lon=\"-70.5565567\"><time>2016-05-23T10:15:07Z</time><speed>0.0</speed><fix>2d</fix></trkpt>\n",
      "<trkpt lat=\"-33.5191803\" lon=\"-70.5565567\"><time>2016-05-23T10:20:07Z</time><speed>0.0</speed><fix>2d</fix></trkpt>\n",
      "<trkpt lat=\"-33.5191803\" lon=\"-70.5565567\"><time>2016-05-23T10:25:07Z</time><speed>0.0</speed><fix>2d</fix></trkpt>\n",
      "<trkpt lat=\"-33.5191803\" lon=\"-70.5565567\"><time>2016-05-23T10:30:07Z</time><speed>0.0</speed><fix>2d</fix></trkpt>\n",
      "<trkpt lat=\"-33.5191803\" lon=\"-70.5565567\"><time>2016-05-23T10:35:07Z</time><speed>0.0</speed><fix>2d</fix></trkpt>\n",
      "<trkpt lat=\"-33.5191803\" lon=\"-70.5565567\"><time>2016-05-23T10:40:07Z</time><speed>0.0</speed><fix>2d</fix></trkpt>\n",
      "<trkpt lat=\"-33.5191803\" lon=\"-70.5565567\"><time>2016-05-23T10:45:07Z</time><speed>0.0</speed><fix>2d</fix></trkpt>\n",
      "<trkpt lat=\"-33.5191803\" lon=\"-70.5565567\"><time>2016-05-23T10:50:07Z</time><speed>0.0</speed><fix>2d</fix></trkpt>\n",
      "<trkpt lat=\"-33.5191803\" lon=\"-70.5565567\"><time>2016-05-23T10:54:15Z</time><speed>0.0</speed><fix>2d</fix></trkpt>\n",
      "<trkpt lat=\"-33.5191803\" lon=\"-70.5565567\"><time>2016-05-23T10:54:45Z</time><speed>0.0</speed><fix>2d</fix></trkpt>\n",
      "<trkpt lat=\"-33.5191803\" lon=\"-70.5565567\"><time>2016-05-23T10:55:15Z</time><speed>0.0</speed><fix>2d</fix></trkpt>\n",
      "<trkpt lat=\"-33.5191803\" lon=\"-70.5565567\"><time>2016-05-23T10:55:45Z</time><speed>0.0</speed><fix>2d</fix></trkpt>\n",
      "<trkpt lat=\"-33.5191803\" lon=\"-70.5565567\"><time>2016-05-23T10:56:15Z</time><speed>0.0</speed><fix>2d</fix></trkpt>\n",
      "<trkpt lat=\"-33.5191803\" lon=\"-70.5565567\"><time>2016-05-23T10:56:45Z</time><speed>0.0</speed><fix>2d</fix></trkpt>\n",
      "<trkpt lat=\"-33.5191994\" lon=\"-70.5565567\"><time>2016-05-23T10:57:15Z</time><speed>0.0</speed><fix>2d</fix></trkpt>\n",
      "<trkpt lat=\"-33.5185928\" lon=\"-70.5569077\"><time>2016-05-23T10:57:45Z</time><speed>3.89</speed><fix>2d</fix></trkpt>\n",
      "<trkpt lat=\"-33.5180588\" lon=\"-70.556778\"><time>2016-05-23T10:58:15Z</time><speed>17.96</speed><fix>2d</fix></trkpt>\n",
      "<trkpt lat=\"-33.5184135\" lon=\"-70.5562439\"><time>2016-05-23T10:58:45Z</time><speed>0.0</speed><fix>2d</fix></trkpt>\n",
      "<trkpt lat=\"-33.5184135\" lon=\"-70.5562439\"><time>2016-05-23T10:59:15Z</time><speed>0.0</speed><fix>2d</fix></trkpt>\n",
      "</trkseg></trk></gpx>\n"
     ]
    }
   ],
   "source": [
    "print head"
   ]
  },
  {
   "cell_type": "code",
   "execution_count": 22,
   "metadata": {
    "collapsed": true
   },
   "outputs": [],
   "source": []
  },
  {
   "cell_type": "code",
   "execution_count": 23,
   "metadata": {
    "collapsed": true
   },
   "outputs": [],
   "source": []
  },
  {
   "cell_type": "code",
   "execution_count": null,
   "metadata": {
    "collapsed": true
   },
   "outputs": [],
   "source": []
  }
 ],
 "metadata": {
  "kernelspec": {
   "display_name": "Python 2",
   "language": "python",
   "name": "python2"
  },
  "language_info": {
   "codemirror_mode": {
    "name": "ipython",
    "version": 2
   },
   "file_extension": ".py",
   "mimetype": "text/x-python",
   "name": "python",
   "nbconvert_exporter": "python",
   "pygments_lexer": "ipython2",
   "version": "2.7.14"
  }
 },
 "nbformat": 4,
 "nbformat_minor": 2
}
